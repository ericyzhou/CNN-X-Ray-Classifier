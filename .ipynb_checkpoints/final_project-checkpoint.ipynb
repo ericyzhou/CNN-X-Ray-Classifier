{
 "cells": [
  {
   "cell_type": "code",
   "execution_count": 13,
   "metadata": {
    "scrolled": false
   },
   "outputs": [],
   "source": [
    "import pandas as pd\n",
    "import numpy as np"
   ]
  },
  {
   "cell_type": "code",
   "execution_count": 14,
   "metadata": {
    "pycharm": {
     "name": "#%%\n"
    },
    "scrolled": true
   },
   "outputs": [
    {
     "name": "stdout",
     "output_type": "stream",
     "text": [
      "             Image Index          Finding Labels  Follow-up #  Patient ID  \\\n",
      "0       00000001_000.png            Cardiomegaly            0           1   \n",
      "1       00000001_001.png  Cardiomegaly|Emphysema            1           1   \n",
      "2       00000001_002.png   Cardiomegaly|Effusion            2           1   \n",
      "3       00000002_000.png              No Finding            0           2   \n",
      "4       00000003_000.png                  Hernia            0           3   \n",
      "...                  ...                     ...          ...         ...   \n",
      "112115  00030801_001.png          Mass|Pneumonia            1       30801   \n",
      "112116  00030802_000.png              No Finding            0       30802   \n",
      "112117  00030803_000.png              No Finding            0       30803   \n",
      "112118  00030804_000.png              No Finding            0       30804   \n",
      "112119  00030805_000.png              No Finding            0       30805   \n",
      "\n",
      "        Patient Age Patient Gender View Position  OriginalImage[Width  \\\n",
      "0                58              M            PA                 2682   \n",
      "1                58              M            PA                 2894   \n",
      "2                58              M            PA                 2500   \n",
      "3                81              M            PA                 2500   \n",
      "4                81              F            PA                 2582   \n",
      "...             ...            ...           ...                  ...   \n",
      "112115           39              M            PA                 2048   \n",
      "112116           29              M            PA                 2048   \n",
      "112117           42              F            PA                 2048   \n",
      "112118           30              F            PA                 2048   \n",
      "112119           27              M            PA                 2048   \n",
      "\n",
      "        Height]  OriginalImagePixelSpacing[x     y]  \n",
      "0          2749                        0.143  0.143  \n",
      "1          2729                        0.143  0.143  \n",
      "2          2048                        0.168  0.168  \n",
      "3          2048                        0.171  0.171  \n",
      "4          2991                        0.143  0.143  \n",
      "...         ...                          ...    ...  \n",
      "112115     2500                        0.168  0.168  \n",
      "112116     2500                        0.168  0.168  \n",
      "112117     2500                        0.168  0.168  \n",
      "112118     2500                        0.168  0.168  \n",
      "112119     2500                        0.171  0.171  \n",
      "\n",
      "[112120 rows x 11 columns]\n"
     ]
    }
   ],
   "source": [
    "data_entries = pd.read_csv(\"Data_Entry_2017.csv\")\n",
    "print(data_entries)\n"
   ]
  }
 ],
 "metadata": {
  "kernelspec": {
   "display_name": "Python 3",
   "language": "python",
   "name": "python3"
  },
  "language_info": {
   "codemirror_mode": {
    "name": "ipython",
    "version": 3
   },
   "file_extension": ".py",
   "mimetype": "text/x-python",
   "name": "python",
   "nbconvert_exporter": "python",
   "pygments_lexer": "ipython3",
   "version": "3.8.6"
  }
 },
 "nbformat": 4,
 "nbformat_minor": 1
}
